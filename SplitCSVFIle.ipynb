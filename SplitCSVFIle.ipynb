{
 "cells": [
  {
   "cell_type": "markdown",
   "id": "6ad8d004",
   "metadata": {},
   "source": [
    "# Split a CSV file into multiple files for easy processing"
   ]
  },
  {
   "cell_type": "code",
   "execution_count": null,
   "id": "75aefd6c",
   "metadata": {},
   "outputs": [],
   "source": [
    "import csv\n",
    "\n",
    "input_file = f'./data/trainingandtestdata/training.1600000.processed.noemoticon.csv'\n",
    "lines_per_file = 20000"
   ]
  },
  {
   "cell_type": "code",
   "execution_count": null,
   "id": "a7b37bda",
   "metadata": {},
   "outputs": [],
   "source": [
    "# Print the number of rows in the file\n",
    "\n",
    "with open(input_file, 'r') as csv_file:\n",
    "    csv_reader = csv.reader(csv_file)\n",
    "    row_count = 0\n",
    "    for row in csv_reader:\n",
    "        row_count += 1\n",
    "    print(f'Total rows in the file is {row_count}')"
   ]
  },
  {
   "cell_type": "code",
   "execution_count": null,
   "id": "5119db59",
   "metadata": {},
   "outputs": [],
   "source": [
    "# Break the file into desired number of files\n",
    "file_count = 0\n",
    "\n",
    "with open(input_file, 'r') as csv_file:\n",
    "    csv_reader = csv.reader(csv_file)\n",
    "    \n",
    "    for i, row in enumerate(csv_reader):\n",
    "        if i % lines_per_file == 0:\n",
    "            if file_count > 0:\n",
    "                output_file.close()\n",
    "\n",
    "            output_file = open(f'output_file_{file_count}.csv', 'w', newline='')\n",
    "            csv_writer = csv.writer(output_file)\n",
    "\n",
    "            file_count += 1\n",
    "\n",
    "        csv_writer.writerow(row)\n",
    "\n",
    "    output_file.close()\n",
    "    print(f'Created {file_count} files')"
   ]
  }
 ],
 "metadata": {
  "kernelspec": {
   "display_name": "Python 3 (ipykernel)",
   "language": "python",
   "name": "python3"
  },
  "language_info": {
   "codemirror_mode": {
    "name": "ipython",
    "version": 3
   },
   "file_extension": ".py",
   "mimetype": "text/x-python",
   "name": "python",
   "nbconvert_exporter": "python",
   "pygments_lexer": "ipython3",
   "version": "3.10.11"
  }
 },
 "nbformat": 4,
 "nbformat_minor": 5
}
